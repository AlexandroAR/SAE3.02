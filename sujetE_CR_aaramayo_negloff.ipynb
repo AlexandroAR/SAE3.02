{
 "cells": [
  {
   "cell_type": "markdown",
   "id": "c233ec22-b9d1-4864-816a-dc631e3cb6cc",
   "metadata": {},
   "source": [
    "# Sujet E : Détermination du type d’AP Wifi, par zone"
   ]
  },
  {
   "cell_type": "markdown",
   "id": "e5fddae1-4f4b-4f00-a69e-8e10a3511eb1",
   "metadata": {
    "tags": []
   },
   "source": [
    "## Introduction :\n",
    "Un AP WiFi controller (également appelé \"point d'accès sans fil contrôleur\") est un dispositif qui permet de gérer et de contrôler un groupe d'AP WiFi. Il s'agit généralement d'un appareil dédié ou d'un logiciel qui peut être installé sur un serveur ou un ordinateur.\n",
    "\n",
    "Le rôle d'un AP WiFi controller est de faciliter la gestion et la configuration des AP WiFi de manière centralisée. Il permet de configurer les paramètres de chaque AP WiFi de manière uniforme, de surveiller leur performance et de gérer leur sécurité.\n",
    "\n",
    "Le AP WiFi controller peut être utilisé pour définir les paramètres de sécurité du réseau WiFi, comme le nom du réseau (SSID), le type de chiffrement et le mot de passe de sécurité. Il peut également être utilisé pour surveiller l'état des AP WiFi et recevoir des alertes en cas de problèmes ou de performances insuffisantes.\n",
    "\n",
    "Un AP WiFi relai (également appelé \"point d'accès sans fil répéteur\") est un dispositif qui permet de étendre la portée d'un réseau WiFi en amplifiant le signal WiFi existant. Il se connecte au réseau WiFi et le transmet à d'autres appareils qui se trouvent à proximité.\n",
    "\n",
    "Le AP WiFi relai est particulièrement utile dans les endroits où le signal WiFi est faible ou où il y a des obstacles qui bloquent le signal. Il peut être utilisé pour étendre la portée d'un réseau WiFi dans un bâtiment, une maison ou un jardin, par exemple.\n",
    "\n",
    "Un AP WiFi simple (également appelé \"point d'accès sans fil\") est un dispositif qui permet de créer un réseau WiFi local (WLAN). Il permet aux appareils équipés de la technologie WiFi de se connecter à Internet ou à un réseau local en utilisant des ondes radio.\n",
    "\n",
    "Les AP WiFi simples sont souvent utilisés pour fournir une connexion Internet dans les endroits où il est difficile ou coûteux de déployer des câbles, tels que les grands espaces ouverts, les bâtiments en construction, les parcs, etc. Ils sont également couramment utilisés dans les entreprises pour créer un réseau local privé qui permet aux employés de se connecter à Internet et aux autres appareils du réseau."
   ]
  },
  {
   "cell_type": "markdown",
   "id": "b5cdf23e-0083-4f18-a7b8-d76d58609a45",
   "metadata": {},
   "source": [
    "### Notions abordées :\n",
    "* Plus court chemin dans un graphe"
   ]
  },
  {
   "cell_type": "markdown",
   "id": "5d7cd9f7-3493-428b-b1ca-80a754275bdd",
   "metadata": {},
   "source": [
    "### Sujet :\n",
    "\n",
    "Parmi les n AP d’un réseau Wifi, il y a k AP contrôleurs. Ces AP contrôleurs (de type\n",
    "C) communiquent entre eux les informations de contrôle du réseau. Chaque\n",
    "contrôleur communique aux AP de sa zone ces informations de contrôle. Les autres\n",
    "AP peuvent être de simple AP (de type S) destinées à la connexion des utilisateurs\n",
    "ou bien des AP Relais (de type R) permettant de relayer les informations de contrôle\n",
    "provenant des contrôleurs. Bien sûr, les caractéristiques (donc le coût) des trois types\n",
    "d’AP (C, R ou S) sont différents. C’est pourquoi il est déterminant de bien les\n",
    "distinguer.\n",
    "\n",
    "On cherche à minimiser le trafic : pour cela, on affectera chaque AP (non contrôleur)\n",
    "à la zone du contrôleur le plus proche.\n",
    "\n",
    "Développer un logiciel permettant, à partir des coordonnées (x,y) de chaque AP et\n",
    "de la liste des contrôleurs, de répartir les AP dans les zones dirigés par chaque\n",
    "contrôleur puis de statuer sur leur type (S ou R)."
   ]
  },
  {
   "cell_type": "markdown",
   "id": "f020287c-df05-409a-97b8-468201b840e2",
   "metadata": {},
   "source": [
    "## En entrée :"
   ]
  },
  {
   "cell_type": "markdown",
   "id": "108f8203-900e-42f4-9fd0-d46343e2b3a5",
   "metadata": {},
   "source": [
    "Nous avons codés un script python qui nous génére :\n",
    "Le fichier des noms et coordonnées de tous les AP. Chaque ligne correspond à un AP.\n",
    "Et le fichier contenant la liste des noms des\n",
    "contrôleurs."
   ]
  },
  {
   "cell_type": "markdown",
   "id": "8c61d3a9-de20-4fe9-b7cd-4260c5f3d6ab",
   "metadata": {},
   "source": [
    "#### generation.py :"
   ]
  },
  {
   "cell_type": "code",
   "execution_count": 1,
   "id": "ee1b04d5-f930-4bee-8ca6-0f5e73734730",
   "metadata": {},
   "outputs": [],
   "source": [
    "import random as rd\n",
    "\n",
    "def gen_ligne(nbr_lignes):\n",
    "    aps = []\n",
    "    for i in range(1, nbr_lignes+1):\n",
    "        ligne = f\"{i} ({rd.randint(-200, 200)}, {rd.randint(-200, 200)}) {rd.randint(10, 50)}\"\n",
    "        aps.append(ligne)\n",
    "    return aps\n",
    "\n",
    "def gen_fichier(longeur):\n",
    "    aps = gen_ligne(longeur)\n",
    "    with open(\"Test/test_AP.txt\", 'w') as f:\n",
    "        for ap in aps:\n",
    "            f.write(f'{ap}\\n')\n",
    "\n",
    "    apcs = []\n",
    "    with open(\"Test/test_APC.txt\", 'w') as f:\n",
    "        for x in range(0, (len(aps)//10)):\n",
    "            apc = rd.randint(1, len(aps))\n",
    "            if apc not in apcs:\n",
    "                apcs.append(apc)\n",
    "                f.write(f\"{apc} \")\n",
    "\n",
    "gen_fichier(50)"
   ]
  },
  {
   "cell_type": "markdown",
   "id": "4386c0f4-27ba-4efb-a22e-78b84868d773",
   "metadata": {},
   "source": [
    "Ce qui nous donne un premier fichier qui se présente sous cette forme :\n",
    "> 1 (-93, 69) 27\\\n",
    "2 (180, -199) 17\\\n",
    "3 (-181, 150) 12\\\n",
    "4 (-82, 182) 14\\\n",
    "5 (93, 22) 19\\\n",
    "6 (126, -26) 11\\\n",
    "7 (-51, 38) 30\\\n",
    "8 (136, 29) 14\\\n",
    "9 (-151, 71) 28\\\n",
    "10 (70, -111) 12\\\n",
    "...\n",
    "\n",
    "Puis un seconde fichier avec les noms des controllers :\n",
    "> 19 38 9 26 29 "
   ]
  },
  {
   "cell_type": "markdown",
   "id": "645fa5b5-19ed-4166-8f51-dadd59f8d67a",
   "metadata": {},
   "source": [
    "## Traitement "
   ]
  },
  {
   "cell_type": "markdown",
   "id": "c8f550da-1842-4e20-8d74-67d3e097efff",
   "metadata": {},
   "source": [
    "#### Ap.py :"
   ]
  },
  {
   "cell_type": "code",
   "execution_count": 4,
   "id": "e1ae7800-de4c-40fc-ac7e-f42c642435b4",
   "metadata": {},
   "outputs": [],
   "source": [
    "import math\n",
    "\n",
    "class AP():\n",
    "    def __init__(self, index=0, coord=(0, 0) , rayon=0, color='white', type_ap = 'S'):\n",
    "        self.index = index\n",
    "        self.coord = coord\n",
    "        self.rayon = rayon\n",
    "        self.color = color\n",
    "        self.type_ap = type_ap\n",
    "        \n",
    "\n",
    "    def __str__(self):\n",
    "        return f\"AP n°{self.index}\\nCoordonnées: {self.coord}\\nRayon de coverture: {self.rayon}\\nCouleur: {self.color}\\nType: {self.type_ap}\"\n",
    "\n",
    "    def IntersectionCouverture(self, ap):\n",
    "        distanceCentres = math.sqrt((self.coord[0]-ap.coord[0])**2 + (self.coord[1]-ap.coord[1])**2) \n",
    "        \n",
    "        if distanceCentres <= (self.rayon + ap.rayon):\n",
    "            return True\n",
    "        \n",
    "        return False"
   ]
  },
  {
   "cell_type": "markdown",
   "id": "07115071-86fe-4111-9639-4db58e3759e8",
   "metadata": {},
   "source": [
    "#### topologie.py"
   ]
  },
  {
   "cell_type": "code",
   "execution_count": 5,
   "id": "d9a077c0-0fee-415f-bde4-9ad6a80076c3",
   "metadata": {},
   "outputs": [
    {
     "data": {
      "image/png": "[encoded data removed]",
      "text/plain": [
       "<Figure size 640x480 with 1 Axes>"
      ]
     },
     "metadata": {},
     "output_type": "display_data"
    }
   ],
   "source": [
    "import networkx as nx\n",
    "import matplotlib.pyplot as plt\n",
    "import ap\n",
    "\n",
    "def ExtractionDesAP(fichier_ap, fichier_apc):\n",
    "\n",
    "    #Liste et dictionnaire des AP et AP controleurs\n",
    "    aps = {}\n",
    "    apcs = []\n",
    "\n",
    "    #Extraction des lignes (APs) dans une liste\n",
    "    with open(fichier_ap, 'r') as f:\n",
    "        lignes = f.readlines()\n",
    "\n",
    "    #Création de liste d'index des AP controleurs\n",
    "    with open(fichier_apc, 'r') as f:\n",
    "        apcs = f.readline().strip().split(' ')\n",
    "\n",
    "    #Boucle de création des AP\n",
    "    for x in lignes:\n",
    "        x.strip()\n",
    "        \n",
    "        #Extraction de l'index (2 premiers caractères)\n",
    "        index = x[:2].strip()\n",
    "\n",
    "        #Extraction du rayon (2 derniers caractères)\n",
    "        rayon = x[-4:].strip()\n",
    "\n",
    "        #Extraction des coordonnées dans tuple coord\n",
    "        coord = x[x.find('(')+1:x.find(')')]\n",
    "        coord = coord.split(\",\")\n",
    "        coord = (int(coord[0]), int(coord[1]))\n",
    "\n",
    "        #Triage de mode et couleur de AP\n",
    "        if index in apcs:\n",
    "            couleur = 'blue'\n",
    "            type_ap = 'C'\n",
    "        else:\n",
    "            couleur = 'red'\n",
    "            type_ap = 'S'\n",
    "\n",
    "        #Création d'un objet AP et ajout en dictionnaire des AP\n",
    "        a = ap.AP(index, coord, int(rayon), couleur, type_ap, 1)\n",
    "        aps[index] = a\n",
    "        #print(a)\n",
    "\n",
    "    return aps\n",
    "\n",
    "def topologie():\n",
    "\n",
    "    #Création graphe représentant la topologie\n",
    "    topo = nx.Graph()\n",
    "\n",
    "    aps = ExtractionDesAP(\"Test/test_AP.txt\", \"Test/test_APC.txt\")\n",
    "    arrets = {}\n",
    "\n",
    "    #Ajout des sommets représentants les AP au graphe de topologie\n",
    "    for x in aps.values():\n",
    "        topo.add_node(x.index, coord=x.coord, couleur=x.color, weight=x.poids)\n",
    "\n",
    "    #Ajout des arrets représentants l'interconnexion des AP\n",
    "    for ap1 in aps.values():\n",
    "        for ap2 in aps.values():\n",
    "            if (ap1.index != ap2.index) and (ap1.index not in arrets.values()) and (ap1.IntersectionCouverture(ap2) == True):\n",
    "                topo.add_edge(ap1.index, ap2.index)\n",
    "                arrets[ap1.index] = ap2.index\n",
    "    \n",
    "    #Ajout du poids pour les liens\n",
    "    for u,v in topo.edges:\n",
    "        topo[u][v]['weight'] = 1\n",
    "\n",
    "    #print(arrets)\n",
    "\n",
    "    return topo\n",
    "\n",
    "\n",
    "def affichage(graphe):\n",
    "\n",
    "    #Création liste de couleurs pour affichage\n",
    "    colors = []\n",
    "\n",
    "    #Stockage des coordonnées et des couleurs dans des variables\n",
    "    pos = nx.get_node_attributes(graphe,'coord')\n",
    "    col = nx.get_node_attributes(graphe, 'couleur')\n",
    "\n",
    "    #Ajout des couleurs dans la liste pour affichage\n",
    "    for x in col:\n",
    "        colors.append(col[x])\n",
    "\n",
    "    #Affichage\n",
    "    nx.draw_networkx_nodes(graphe, pos, node_color=colors)\n",
    "    nx.draw_networkx_labels(graphe, pos)\n",
    "    nx.draw_networkx_edges(graphe, pos)\n",
    "    #nx.draw_networkx_edge_labels(graphe, pos, edge_labels = nx.get_edge_attributes(graphe, 'weight'))\n",
    "    plt.show()\n",
    "\n",
    "affichage(topologie())"
   ]
  },
  {
   "cell_type": "code",
   "execution_count": null,
   "id": "cbaaf5e7-0b29-4c31-8f0b-4c6fc13a8825",
   "metadata": {},
   "outputs": [],
   "source": []
  }
 ],
 "metadata": {
  "kernelspec": {
   "display_name": "Python 3 (ipykernel)",
   "language": "python",
   "name": "python3"
  },
  "language_info": {
   "codemirror_mode": {
    "name": "ipython",
    "version": 3
   },
   "file_extension": ".py",
   "mimetype": "text/x-python",
   "name": "python",
   "nbconvert_exporter": "python",
   "pygments_lexer": "ipython3",
   "version": "3.8.10"
  }
 },
 "nbformat": 4,
 "nbformat_minor": 5
}
